{
 "cells": [
  {
   "cell_type": "code",
   "execution_count": null,
   "id": "f1ca80e7",
   "metadata": {},
   "outputs": [],
   "source": [
    "%pip install gymnasium\n",
    "%pip install toml\n",
    "%pip install mlflow"
   ]
  }
 ],
 "metadata": {
  "language_info": {
   "name": "python"
  }
 },
 "nbformat": 4,
 "nbformat_minor": 5
}
